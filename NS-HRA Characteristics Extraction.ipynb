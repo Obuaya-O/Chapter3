{
 "cells": [
  {
   "cell_type": "code",
   "execution_count": null,
   "id": "b9639ea2-f756-495c-b9aa-fbfb7e9ff978",
   "metadata": {},
   "outputs": [],
   "source": [
    "import pandas as pd\n",
    "import numpy as np\n",
    "import re\n",
    "import string\n",
    "import csv\n",
    "import os\n",
    "import xml.etree.ElementTree as ET"
   ]
  },
  {
   "cell_type": "code",
   "execution_count": null,
   "id": "a0579b43-5703-45b5-ac6a-792fd1bc5a0d",
   "metadata": {},
   "outputs": [],
   "source": [
    "directory = ('XML FILES')"
   ]
  },
  {
   "cell_type": "code",
   "execution_count": null,
   "id": "90d66f54-a292-4c73-be46-1b2dc3401b55",
   "metadata": {},
   "outputs": [],
   "source": [
    "file_path = ('TEXT FILE OF THE UNIQUE IDs for the PHASE 2 AND 3 NS RCTS')"
   ]
  },
  {
   "cell_type": "code",
   "execution_count": null,
   "id": "11377368-c2df-4dec-99ff-bf8fc33d8c26",
   "metadata": {},
   "outputs": [],
   "source": [
    "with open(file_path, 'r') as file:\n",
    "    unique_ids = [line.strip() for line in file]"
   ]
  },
  {
   "cell_type": "code",
   "execution_count": null,
   "id": "014a690e-cd78-475d-8749-5b9364228b1e",
   "metadata": {},
   "outputs": [],
   "source": [
    "id_add = pd.DataFrame({'Unique_ID': unique_ids})"
   ]
  },
  {
   "cell_type": "code",
   "execution_count": null,
   "id": "05ff4a68-0d85-40a5-bf08-3f18aa26ec1f",
   "metadata": {},
   "outputs": [],
   "source": [
    " characteristics_df = pd.DataFrame(columns=['Unique_ID', 'Title', 'Phase', 'Objective', 'End_date','Sample_size', '1ry_endpoint', 'Treatment', 'LT_followup'])"
   ]
  },
  {
   "cell_type": "code",
   "execution_count": null,
   "id": "2f1360ce-9eda-4a1a-aac4-a82125387438",
   "metadata": {},
   "outputs": [],
   "source": [
    "characteristics_df = pd.concat([id_add, characteristics_df], ignore_index=True)"
   ]
  },
  {
   "cell_type": "code",
   "execution_count": null,
   "id": "b4fd0bf7-2fd1-4f72-8572-1b4ae46cc8f2",
   "metadata": {},
   "outputs": [],
   "source": [
    "print(characteristics_df.head())"
   ]
  },
  {
   "cell_type": "code",
   "execution_count": null,
   "id": "7253c22a-7b53-4898-8f13-94adfc3bea4d",
   "metadata": {},
   "outputs": [],
   "source": [
    "characteristics_df['Unique_ID'] = characteristics_df['Unique_ID'].str.replace('.xml', '', regex=False)"
   ]
  },
  {
   "cell_type": "code",
   "execution_count": null,
   "id": "f99a94a9-f962-42f4-bca8-567be6b9134f",
   "metadata": {},
   "outputs": [],
   "source": [
    "print(characteristics_df.head())"
   ]
  },
  {
   "cell_type": "code",
   "execution_count": null,
   "id": "d121a03e-5c9f-40c0-bc8a-0477ba6078cf",
   "metadata": {},
   "outputs": [],
   "source": [
    "# Title\n",
    "for index, row in characteristics_df.iterrows():\n",
    "    unique_id = row['Unique_ID'] + '.xml'  \n",
    "    file_path = os.path.join(folder_path, unique_id)\n",
    "    \n",
    "    if os.path.isfile(file_path):\n",
    "        try:\n",
    "            tree = ET.parse(file_path)\n",
    "            root = tree.getroot()\n",
    "            \n",
    "            study_title_tag = 'Study_Full_Title'  \n",
    "            title_found = False  \n",
    "            \n",
    "            for elem in root.iter(study_title_tag):\n",
    "                title = elem.find('./value').text  \n",
    "                \n",
    "                # Check if 'randomised' or 'randomized' is in the title\n",
    "                if 'randomised' in title.lower() or 'randomized' in title.lower():\n",
    "                    characteristics_df.at[index, 'Title'] = title  \n",
    "                    title_found = True\n",
    "# Phase\n",
    "                    phase = title.lower().split('phase') \n",
    "                    if len(phase) > 1:\n",
    "                        phase_number = phase[1].split(' ')[1].translate(str.maketrans('', '', string.punctuation))\n",
    "                        characteristics_df.at[index, 'Phase'] = phase_number  \n",
    "                    else:\n",
    "                        characteristics_df.at[index, 'Phase'] = 0  \n",
    "\n",
    "                    break  \n",
    "\n",
    "            if not title_found:\n",
    "                print(f\"No randomised title found for {unique_id}\")\n",
    "\n",
    "\n",
    "# Objective\n",
    "            rq_tag = 'Principal_Research_Question'\n",
    "            objective_tag = 'value'\n",
    "\n",
    "            for elem in root.iter(rq_tag):\n",
    "                rq = elem.text\n",
    "\n",
    "                objective_elem = elem.find('./' + objective_tag)  \n",
    "                objective = objective_elem.text if objective_elem is not None else 'Objective not found'\n",
    "\n",
    "                characteristics_df.at[index, 'Objective'] = objective\n",
    "\n",
    "                break\n",
    "                \n",
    "\n",
    "# End_date\n",
    "            red_tag = 'Research_End_Date'\n",
    "            end_tag = 'value'\n",
    "\n",
    "            for elem in root.iter(red_tag):\n",
    "                red = elem.text\n",
    "\n",
    "                end_elem = elem.find('./' + end_tag)\n",
    "                end = end_elem.text if end_elem is not None else 'End_date not found'\n",
    "\n",
    "                characteristics_df.at[index, 'End_date'] = end\n",
    "                \n",
    "                break\n",
    "# Sample_Size\n",
    "            ssn_tag = 'Total_International_Sample_Size_Number'\n",
    "            sample_tag = 'value'\n",
    "\n",
    "            for elem in root.iter(ssn_tag):\n",
    "                ssn = elem.text\n",
    "\n",
    "                sample_elem = elem.find('./' + sample_tag)\n",
    "                sample = sample_elem.text if sample_elem is not None else 'Sample Size not found'\n",
    "\n",
    "                characteristics_df.at[index, 'Sample_size'] = sample\n",
    "                \n",
    "                break\n",
    "# Primary Endpoint\n",
    "            pom_tag = 'Primary_Outcome_Measure'\n",
    "            endpoint_tag = 'value'\n",
    "\n",
    "            for elem in root.iter(pom_tag):\n",
    "                pom = elem.text\n",
    "\n",
    "                endpoint_elem = elem.find('./' + endpoint_tag)\n",
    "                endpoint = endpoint_elem.text if endpoint_elem is not None else 'Primary endpoint not found'\n",
    "\n",
    "                characteristics_df.at[index, '1ry_endpoint'] = endpoint\n",
    "                \n",
    "                break\n",
    "\n",
    "# LT-Follow Up\n",
    "            psd_tag = 'Participants_Study_Duration' # Not quite right either but there isn't an exact 'box'\n",
    "            follow_tag = 'value'\n",
    "\n",
    "            for elem in root.iter(psd_tag):\n",
    "                psd = elem.text\n",
    "\n",
    "                follow_elem = elem.find('./' + follow_tag)\n",
    "                follow = follow_elem.text if follow_elem is not None else 'LT follow-up not found'\n",
    "\n",
    "                characteristics_df.at[index, 'LT_followup'] = follow\n",
    "                \n",
    "                break\n",
    "                \n",
    "        except ET.ParseError as e:\n",
    "            print(f\"Error parsing {file_path}: {e}\")"
   ]
  },
  {
   "cell_type": "code",
   "execution_count": null,
   "id": "87141209-c435-424f-81af-a76db9f8b28f",
   "metadata": {},
   "outputs": [],
   "source": [
    "print(characteristics_df.head())"
   ]
  },
  {
   "cell_type": "code",
   "execution_count": null,
   "id": "e9db8b8b-b7ee-48b6-8a99-a42ec7aa2f87",
   "metadata": {},
   "outputs": [],
   "source": [
    "characteristics_df.to_csv('ns_hra', index=False)"
   ]
  }
 ],
 "metadata": {
  "kernelspec": {
   "display_name": "Python 3 (ipykernel)",
   "language": "python",
   "name": "python3"
  },
  "language_info": {
   "codemirror_mode": {
    "name": "ipython",
    "version": 3
   },
   "file_extension": ".py",
   "mimetype": "text/x-python",
   "name": "python",
   "nbconvert_exporter": "python",
   "pygments_lexer": "ipython3",
   "version": "3.11.7"
  }
 },
 "nbformat": 4,
 "nbformat_minor": 5
}
