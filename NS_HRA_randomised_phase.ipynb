{
 "cells": [
  {
   "cell_type": "code",
   "execution_count": null,
   "id": "2350fa3a-2e70-4a9d-88c3-92b612b17d24",
   "metadata": {},
   "outputs": [],
   "source": [
    "import pandas as pd\n",
    "import numpy as np\n",
    "import re\n",
    "import string\n",
    "import csv\n",
    "import os\n",
    "import xml.etree.ElementTree as ET"
   ]
  },
  {
   "cell_type": "code",
   "execution_count": null,
   "id": "ec52d445-825a-4572-8ebd-b3cb48a9db5f",
   "metadata": {},
   "outputs": [],
   "source": [
    "import os\n",
    "print(os.getcwd())"
   ]
  },
  {
   "cell_type": "code",
   "execution_count": null,
   "id": "726de7fa-d371-4100-90a0-9d8b59d4a152",
   "metadata": {},
   "outputs": [],
   "source": [
    "directory = ('XML FILES')"
   ]
  },
  {
   "cell_type": "code",
   "execution_count": null,
   "id": "471226e3-7098-4ca8-8a55-05762db63f4b",
   "metadata": {},
   "outputs": [],
   "source": [
    "keywords = {'randomised', 'randomized', 'phase 2', 'phase ii', 'phase 3', 'phase iii'}\n",
    "known_tag = 'Study_Full_Title'"
   ]
  },
  {
   "cell_type": "code",
   "execution_count": null,
   "id": "292e6acb-fd92-4b31-9d02-b9d50c15d956",
   "metadata": {},
   "outputs": [],
   "source": [
    "def contains_keyword_in_next_tag(xml_file):\n",
    "    try:\n",
    "        tree = ET.parse(xml_file)\n",
    "        root = tree.getroot()\n",
    "        \n",
    "        found_known_tag = False\n",
    "        for elem in root.iter():\n",
    "            # If we found the Study_Full_Title tag, check the next tag's text for keywords\n",
    "            if found_known_tag:\n",
    "                if elem.text:\n",
    "                    # Convert text to lowercase and check for any keyword match\n",
    "                    text = elem.text.lower()\n",
    "                    if any(keyword in text for keyword in keywords):\n",
    "                        return True\n",
    "                break\n",
    "            # Look for the Study_Full_Title tag\n",
    "            if elem.tag == known_tag:\n",
    "                found_known_tag = True\n",
    "\n",
    "        return False  # Return false if no keywords are found or Study_Full_Title not present\n",
    "\n",
    "    except ET.ParseError as e:\n",
    "        print(f\"Error parsing {xml_file}: {e}\")\n",
    "        return False\n",
    "\n",
    "# Directory containing XML files\n",
    "xml_directory = directory\n",
    "matching_files = []\n",
    "\n",
    "# Loop through each XML file in the directory\n",
    "for xml_file in os.listdir(xml_directory):\n",
    "    if xml_file.endswith('.xml'):\n",
    "        file_path = os.path.join(xml_directory, xml_file)\n",
    "        if contains_keyword_in_next_tag(file_path):\n",
    "            matching_files.append(xml_file)\n",
    "\n",
    "# Save the matching file names to a text file\n",
    "with open(final_ns.txt\", \"w\") as f:\n",
    "    for file_name in matching_files:\n",
    "        f.write(f\"{file_name}\\n\")\n",
    "\n",
    "print(f\"Total matching files: {len(matching_files)}\")"
   ]
  }
 ],
 "metadata": {
  "kernelspec": {
   "display_name": "Python 3 (ipykernel)",
   "language": "python",
   "name": "python3"
  },
  "language_info": {
   "codemirror_mode": {
    "name": "ipython",
    "version": 3
   },
   "file_extension": ".py",
   "mimetype": "text/x-python",
   "name": "python",
   "nbconvert_exporter": "python",
   "pygments_lexer": "ipython3",
   "version": "3.11.7"
  }
 },
 "nbformat": 4,
 "nbformat_minor": 5
}
