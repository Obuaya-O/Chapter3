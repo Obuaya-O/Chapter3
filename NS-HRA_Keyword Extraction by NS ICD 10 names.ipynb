{
 "cells": [
  {
   "cell_type": "code",
   "execution_count": null,
   "id": "2350fa3a-2e70-4a9d-88c3-92b612b17d24",
   "metadata": {},
   "outputs": [],
   "source": [
    "import pandas as pd\n",
    "import numpy as np\n",
    "import re\n",
    "import string\n",
    "import csv\n",
    "import os\n",
    "import xml.etree.ElementTree as ET"
   ]
  },
  {
   "cell_type": "code",
   "execution_count": null,
   "id": "b8c83db3-36a8-44ae-a84e-131409538b1b",
   "metadata": {},
   "outputs": [],
   "source": [
    "ns_names = pd.read_csv(\"ns_hra/ns_disease_names.csv\", header =None)"
   ]
  },
  {
   "cell_type": "code",
   "execution_count": null,
   "id": "460ca4f2-3267-437d-8602-78a127e4c843",
   "metadata": {},
   "outputs": [],
   "source": [
    "keywords = ns_names[0].tolist()  \n",
    "# Names for the diseases of the nervous system in the ICD 10"
   ]
  },
  {
   "cell_type": "code",
   "execution_count": null,
   "id": "7fee9796-e30e-4671-a025-e0e2f5d8680a",
   "metadata": {},
   "outputs": [],
   "source": [
    "print(keywords)"
   ]
  },
  {
   "cell_type": "code",
   "execution_count": null,
   "id": "8171d750-14fb-4ac9-9cd2-5ccc81d7ba7e",
   "metadata": {},
   "outputs": [],
   "source": [
    "known_tag = 'Study_Full_Title' \n",
    "\n",
    "keyword_with_abbreviations = {kw.lower(): abbreviations.get(kw, '').lower() for kw in keywords}\n",
    "\n",
    "# Study Title\n",
    "def title_contains_keyword_or_abbreviation(title_text):\n",
    "    title_text = title_text.lower()  \n",
    "    for keyword, abbreviation in keyword_with_abbreviations.items():\n",
    "        if keyword in title_text or (abbreviation and abbreviation in title_text):\n",
    "            return True  \n",
    "    return False  \n",
    "\n",
    "def extract_next_after_known_tag_and_check_keywords(xml_file):\n",
    "    try:\n",
    "        tree = ET.parse(xml_file)\n",
    "        root = tree.getroot()\n",
    "\n",
    "        found_known_tag = False\n",
    "        for elem in root.iter():\n",
    "            if found_known_tag:\n",
    "                title_text = elem.text\n",
    "                if title_text and title_contains_keyword_or_abbreviation(title_text):\n",
    "                    return True  \n",
    "                break  \n",
    "            if elem.tag == known_tag:\n",
    "                found_known_tag = True\n",
    "\n",
    "        return False  \n",
    "\n",
    "    except ET.ParseError as e:\n",
    "        print(f\"Error parsing {xml_file}: {e}\")\n",
    "        return False\n",
    "\n",
    "matching_files = []\n",
    "\n",
    "xml_directory = ''\n",
    "\n",
    "for xml_file in os.listdir(xml_directory):\n",
    "    if xml_file.endswith(\".xml\"):\n",
    "        file_path = os.path.join(xml_directory, xml_file)\n",
    "        if extract_next_after_known_tag_and_check_keywords(file_path):\n",
    "            matching_files.append(xml_file)\n",
    "\n",
    "with open(\"matching_files.txt\", \"w\") as f:\n",
    "    for file_name in matching_files:\n",
    "        f.write(f\"{file_name}\\n\")\n",
    "\n",
    "print(f\"Total matching files: {len(matching_files)}\")\n"
   ]
  },
  {
   "cell_type": "code",
   "execution_count": null,
   "id": "6ad1da41-bb97-44f8-a86a-34b916cd0373",
   "metadata": {},
   "outputs": [],
   "source": []
  }
 ],
 "metadata": {
  "kernelspec": {
   "display_name": "Python 3 (ipykernel)",
   "language": "python",
   "name": "python3"
  },
  "language_info": {
   "codemirror_mode": {
    "name": "ipython",
    "version": 3
   },
   "file_extension": ".py",
   "mimetype": "text/x-python",
   "name": "python",
   "nbconvert_exporter": "python",
   "pygments_lexer": "ipython3",
   "version": "3.11.7"
  }
 },
 "nbformat": 4,
 "nbformat_minor": 5
}
